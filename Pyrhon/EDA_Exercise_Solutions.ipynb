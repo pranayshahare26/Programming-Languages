{
 "cells": [
  {
   "cell_type": "code",
   "execution_count": 18,
   "metadata": {},
   "outputs": [
    {
     "name": "stdout",
     "output_type": "stream",
     "text": [
      "<class 'pandas.core.frame.DataFrame'>\n",
      "RangeIndex: 1949 entries, 0 to 1948\n",
      "Data columns (total 11 columns):\n",
      " #   Column                            Non-Null Count  Dtype  \n",
      "---  ------                            --------------  -----  \n",
      " 0   country_name                      1949 non-null   object \n",
      " 1   year                              1949 non-null   int64  \n",
      " 2   life_ladder                       1949 non-null   float64\n",
      " 3   log_gdp_per_capita                1913 non-null   float64\n",
      " 4   social_support                    1936 non-null   float64\n",
      " 5   healthy_life_expectancy_at_birth  1894 non-null   float64\n",
      " 6   freedom_to_make_life_choices      1917 non-null   float64\n",
      " 7   generosity                        1860 non-null   float64\n",
      " 8   perceptions_of_corruption         1839 non-null   float64\n",
      " 9   positive_affect                   1927 non-null   float64\n",
      " 10  negative_affect                   1933 non-null   float64\n",
      "dtypes: float64(9), int64(1), object(1)\n",
      "memory usage: 167.6+ KB\n"
     ]
    }
   ],
   "source": [
    "import pandas as pd \n",
    "df_whr = pd.read_csv('world-happiness-report.csv')\n",
    "# df_whr.head()\n",
    "# df_whr.info()\n",
    "# df_whr['Country name'].count()\n",
    "# temp_column_list = []\n",
    "# for i in df_whr.columns:\n",
    "#     temp_column_list.append(i.replace(' ','_').lower())\n",
    "    \n",
    "df_whr.columns = [i.replace(' ','_').lower() for i in df_whr.columns]\n",
    "df_whr\n",
    "df_whr.info()"
   ]
  },
  {
   "cell_type": "code",
   "execution_count": 23,
   "metadata": {},
   "outputs": [
    {
     "data": {
      "text/plain": [
       "year\n",
       "2005       93.120\n",
       "2006     5737.703\n",
       "2007     7424.559\n",
       "2008     7975.091\n",
       "2009     8502.450\n",
       "2010     9083.277\n",
       "2011    10528.594\n",
       "2012     9787.343\n",
       "2013    10058.039\n",
       "2014    10335.218\n",
       "2015    10376.076\n",
       "2016    10178.679\n",
       "2017    10859.534\n",
       "2018    10429.152\n",
       "2019    10481.317\n",
       "2020     6964.084\n",
       "Name: happiness_score, dtype: float64"
      ]
     },
     "execution_count": 23,
     "metadata": {},
     "output_type": "execute_result"
    }
   ],
   "source": [
    "df_whr['happiness_score'] = df_whr['life_ladder']+df_whr['log_gdp_per_capita']+df_whr['social_support']+df_whr['healthy_life_expectancy_at_birth']+df_whr['freedom_to_make_life_choices']+df_whr['generosity']+df_whr['perceptions_of_corruption']+df_whr['positive_affect']+df_whr['negative_affect']                         \n",
    "solution = df_whr.groupby('year').sum()['happiness_score']\n",
    "solution.plot.line(y= 'happiness_score' , x = 'year')\n"
   ]
  }
 ],
 "metadata": {
  "kernelspec": {
   "display_name": "base",
   "language": "python",
   "name": "python3"
  },
  "language_info": {
   "codemirror_mode": {
    "name": "ipython",
    "version": 3
   },
   "file_extension": ".py",
   "mimetype": "text/x-python",
   "name": "python",
   "nbconvert_exporter": "python",
   "pygments_lexer": "ipython3",
   "version": "3.9.12"
  },
  "orig_nbformat": 4
 },
 "nbformat": 4,
 "nbformat_minor": 2
}

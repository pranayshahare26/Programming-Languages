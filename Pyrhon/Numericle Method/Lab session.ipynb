{
 "cells": [
  {
   "cell_type": "code",
   "execution_count": 1,
   "id": "d4d6dcd4",
   "metadata": {},
   "outputs": [],
   "source": [
    "import math\n",
    "import numpy as np"
   ]
  },
  {
   "cell_type": "code",
   "execution_count": 2,
   "id": "4efdd90d",
   "metadata": {},
   "outputs": [
    {
     "data": {
      "text/plain": [
       "-10"
      ]
     },
     "execution_count": 2,
     "metadata": {},
     "output_type": "execute_result"
    }
   ],
   "source": [
    "math.trunc(-10.90)"
   ]
  },
  {
   "cell_type": "code",
   "execution_count": 3,
   "id": "816706a4",
   "metadata": {},
   "outputs": [
    {
     "data": {
      "text/plain": [
       "2"
      ]
     },
     "execution_count": 3,
     "metadata": {},
     "output_type": "execute_result"
    }
   ],
   "source": [
    "round(1.5)"
   ]
  },
  {
   "cell_type": "code",
   "execution_count": 4,
   "id": "45ae3c39",
   "metadata": {},
   "outputs": [
    {
     "data": {
      "text/plain": [
       "1"
      ]
     },
     "execution_count": 4,
     "metadata": {},
     "output_type": "execute_result"
    }
   ],
   "source": [
    "round(1.2)"
   ]
  },
  {
   "cell_type": "code",
   "execution_count": 5,
   "id": "8013d1a9",
   "metadata": {},
   "outputs": [
    {
     "data": {
      "text/plain": [
       "2"
      ]
     },
     "execution_count": 5,
     "metadata": {},
     "output_type": "execute_result"
    }
   ],
   "source": [
    "round(1.7)"
   ]
  },
  {
   "cell_type": "code",
   "execution_count": 6,
   "id": "ac3d9bec",
   "metadata": {},
   "outputs": [
    {
     "data": {
      "text/plain": [
       "-2"
      ]
     },
     "execution_count": 6,
     "metadata": {},
     "output_type": "execute_result"
    }
   ],
   "source": [
    "round(-1.7)"
   ]
  },
  {
   "cell_type": "code",
   "execution_count": 7,
   "id": "06034322",
   "metadata": {},
   "outputs": [
    {
     "name": "stdout",
     "output_type": "stream",
     "text": [
      "3.0000000000000013 is the close to the cube root of 27\n"
     ]
    }
   ],
   "source": [
    "# Find approximate value of the cube root of 27\n",
    "guess = 0.0\n",
    "guess_list = []\n",
    "error = []\n",
    "cube = 27\n",
    "increment = 0.1\n",
    "epsilon = 0.1 # Error Tolerance\n",
    "\n",
    "# Finding the approximate value\n",
    "while abs(guess**3 - cube) >= epsilon:\n",
    "    guess_list.append(guess)\n",
    "    guess += increment\n",
    "    error.append(guess**3 - cube)\n",
    "\n",
    "# Checking the approximate value\n",
    "if abs(guess**3 - cube) >= epsilon:\n",
    "    print(\"Failed on the cube root of\", cube)\n",
    "else:\n",
    "    print(guess, \"is the close to the cube root of\", cube)"
   ]
  },
  {
   "cell_type": "markdown",
   "id": "63554abc",
   "metadata": {},
   "source": [
    "# Implement above using following:\n",
    "1) if + break\n",
    "2) iteration counter\n",
    "3) for loop"
   ]
  },
  {
   "cell_type": "code",
   "execution_count": 8,
   "id": "0301a535",
   "metadata": {},
   "outputs": [
    {
     "name": "stdout",
     "output_type": "stream",
     "text": [
      "4.000000000000002 is the close to the cube root of 64\n"
     ]
    }
   ],
   "source": [
    "# 1) if + break\n",
    "# Find approximate value of the cube root of 64\n",
    "guess = 0.0\n",
    "cube = 64\n",
    "increment = 0.1\n",
    "epsilon = 0.1 # Error Tolerance\n",
    "\n",
    "# Finding the approximate value\n",
    "while True:\n",
    "    guess += increment\n",
    "    if guess**3 - cube > 0:\n",
    "        break\n",
    "    \n",
    "\n",
    "# Checking the approximate value\n",
    "if abs(guess**3 - cube) >= epsilon:\n",
    "    print(\"Failed on the cube root of\", cube)\n",
    "else:\n",
    "    print(guess, \"is the close to the cube root of\", cube)"
   ]
  },
  {
   "cell_type": "code",
   "execution_count": 9,
   "id": "945f3846",
   "metadata": {},
   "outputs": [
    {
     "name": "stdout",
     "output_type": "stream",
     "text": [
      "4.000000000000002 is the close to the cube root of 64\n"
     ]
    }
   ],
   "source": [
    "# 2) iteration counter\n",
    "# Find approximate value of the cube root of 64\n",
    "guess = 0.0\n",
    "cube = 64\n",
    "increment = 0.1\n",
    "epsilon = 0.1 # Error Tolerance\n",
    "counter = 0\n",
    "iterations = 100000\n",
    "# Finding the approximate value\n",
    "while True:\n",
    "    guess += increment\n",
    "    if guess**3 - cube > 0 or counter > iterations:\n",
    "        break\n",
    "    counter += 1\n",
    "    \n",
    "print(guess, \"is the close to the cube root of\", cube)"
   ]
  },
  {
   "cell_type": "code",
   "execution_count": null,
   "id": "d0c88c15",
   "metadata": {},
   "outputs": [],
   "source": []
  },
  {
   "cell_type": "code",
   "execution_count": 10,
   "id": "c1d878d3",
   "metadata": {},
   "outputs": [
    {
     "name": "stdout",
     "output_type": "stream",
     "text": [
      "3.0000000000000004 is the close to the cube root of 27\n"
     ]
    }
   ],
   "source": [
    "# 3) for loop\n",
    "# Find approximate value of the cube root of 64\n",
    "guess = 0.0\n",
    "cube = 27\n",
    "increment = 0.1\n",
    "epsilon = 0.1 # Error Tolerance\n",
    "\n",
    "# Finding the approximate value\n",
    "for guess in np.arange(0,1000,.1):\n",
    "    guess += increment\n",
    "    if guess**3 - cube > 0:\n",
    "        break\n",
    "print(guess, \"is the close to the cube root of\", cube)"
   ]
  },
  {
   "cell_type": "code",
   "execution_count": 11,
   "id": "3dac5bfe",
   "metadata": {},
   "outputs": [
    {
     "data": {
      "text/plain": [
       "array([0. , 0.1, 0.2, 0.3, 0.4, 0.5, 0.6, 0.7, 0.8, 0.9])"
      ]
     },
     "execution_count": 11,
     "metadata": {},
     "output_type": "execute_result"
    }
   ],
   "source": [
    "np.arange(0,1,.1)"
   ]
  },
  {
   "cell_type": "code",
   "execution_count": 12,
   "id": "c0edc1b8",
   "metadata": {},
   "outputs": [
    {
     "data": {
      "image/png": "[encoded data removed]",
      "text/plain": [
       "<Figure size 640x480 with 2 Axes>"
      ]
     },
     "metadata": {},
     "output_type": "display_data"
    }
   ],
   "source": [
    "import matplotlib.pyplot as plt\n",
    "import numpy as np\n",
    "\n",
    "#plot 1:\n",
    "plt.subplot(1,2,1)\n",
    "plt.plot(guess_list, linestyle = 'dotted', color='Green')\n",
    "plt.title(\"Guess value\")\n",
    "plt.xlabel('Guess')\n",
    "\n",
    "plt.subplot(1,2,2)\n",
    "plt.plot(error, linestyle = 'dotted', color='Green')\n",
    "plt.title(\"Error\")\n",
    "plt.xlabel('Error')\n",
    "\n",
    "plt.show()"
   ]
  },
  {
   "cell_type": "code",
   "execution_count": null,
   "id": "86b92cbc",
   "metadata": {},
   "outputs": [],
   "source": []
  },
  {
   "cell_type": "code",
   "execution_count": null,
   "id": "fcb71da0",
   "metadata": {},
   "outputs": [],
   "source": []
  },
  {
   "cell_type": "code",
   "execution_count": null,
   "id": "09b8c449",
   "metadata": {},
   "outputs": [],
   "source": []
  },
  {
   "cell_type": "code",
   "execution_count": null,
   "id": "5a50c2a3",
   "metadata": {},
   "outputs": [],
   "source": []
  }
 ],
 "metadata": {
  "kernelspec": {
   "display_name": "Python 3 (ipykernel)",
   "language": "python",
   "name": "python3"
  },
  "language_info": {
   "codemirror_mode": {
    "name": "ipython",
    "version": 3
   },
   "file_extension": ".py",
   "mimetype": "text/x-python",
   "name": "python",
   "nbconvert_exporter": "python",
   "pygments_lexer": "ipython3",
   "version": "3.11.3"
  }
 },
 "nbformat": 4,
 "nbformat_minor": 5
}

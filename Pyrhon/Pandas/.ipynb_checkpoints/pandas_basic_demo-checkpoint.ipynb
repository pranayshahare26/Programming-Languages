{
 "cells": [
  {
   "cell_type": "code",
   "execution_count": 334,
   "metadata": {},
   "outputs": [
    {
     "data": {
      "text/html": [
       "<div>\n",
       "<style scoped>\n",
       "    .dataframe tbody tr th:only-of-type {\n",
       "        vertical-align: middle;\n",
       "    }\n",
       "\n",
       "    .dataframe tbody tr th {\n",
       "        vertical-align: top;\n",
       "    }\n",
       "\n",
       "    .dataframe thead th {\n",
       "        text-align: right;\n",
       "    }\n",
       "</style>\n",
       "<table border=\"1\" class=\"dataframe\">\n",
       "  <thead>\n",
       "    <tr style=\"text-align: right;\">\n",
       "      <th></th>\n",
       "      <th>name</th>\n",
       "      <th>rollno</th>\n",
       "      <th>salary</th>\n",
       "      <th>dept</th>\n",
       "    </tr>\n",
       "  </thead>\n",
       "  <tbody>\n",
       "    <tr>\n",
       "      <th>0</th>\n",
       "      <td>Gaurav</td>\n",
       "      <td>s1</td>\n",
       "      <td>1000</td>\n",
       "      <td>comp</td>\n",
       "    </tr>\n",
       "    <tr>\n",
       "      <th>1</th>\n",
       "      <td>Pratik</td>\n",
       "      <td>s2</td>\n",
       "      <td>700</td>\n",
       "      <td>IT</td>\n",
       "    </tr>\n",
       "    <tr>\n",
       "      <th>2</th>\n",
       "      <td>Sneha</td>\n",
       "      <td>s3</td>\n",
       "      <td>600</td>\n",
       "      <td>comp</td>\n",
       "    </tr>\n",
       "    <tr>\n",
       "      <th>3</th>\n",
       "      <td>Mayur</td>\n",
       "      <td>s4</td>\n",
       "      <td>500</td>\n",
       "      <td>Mech</td>\n",
       "    </tr>\n",
       "  </tbody>\n",
       "</table>\n",
       "</div>"
      ],
      "text/plain": [
       "     name rollno  salary  dept\n",
       "0  Gaurav     s1    1000  comp\n",
       "1  Pratik     s2     700    IT\n",
       "2   Sneha     s3     600  comp\n",
       "3   Mayur     s4     500  Mech"
      ]
     },
     "execution_count": 334,
     "metadata": {},
     "output_type": "execute_result"
    }
   ],
   "source": [
    "import pandas as pd\n",
    "dict = [{\"name\" : \"Gaurav\" , \"rollno\" : 's1' , \"salary\" : 1000 , \"dept\" : \"comp\"},\n",
    "        {\"name\" : \"Pratik\" , \"rollno\" : 's2' , \"salary\" : 700,\"dept\" : \"IT\"},\n",
    "        {\"name\" : \"Sneha\" , \"rollno\" : 's3' , \"salary\" : 600,\"dept\" : \"comp\"},\n",
    "       {\"name\" : \"Mayur\" , \"rollno\" : 's4' , \"salary\" : 500,\"dept\" : \"Mech\"}\n",
    "       ]\n",
    "\n",
    "df = pd.DataFrame(dict) \n",
    "\n",
    "df\n",
    "\n"
   ]
  },
  {
   "cell_type": "code",
   "execution_count": 335,
   "metadata": {},
   "outputs": [
    {
     "data": {
      "text/plain": [
       "0    Gaurav\n",
       "1    Pratik\n",
       "2     Sneha\n",
       "Name: name, dtype: object"
      ]
     },
     "execution_count": 335,
     "metadata": {},
     "output_type": "execute_result"
    }
   ],
   "source": [
    "#  column projection\n",
    "# df[\"name\"]\n",
    "# df[[\"name\",\"salary\"]]\n",
    "\n",
    "# # row selection using index labels \n",
    "# df.iloc[0]\n",
    "# df.iloc[[0,1]]\n",
    "# df= df.set_index('rollno')\n",
    "# df\n",
    "\n",
    "# df.loc['s1']\n",
    "# df.loc[['s1','s2']]\n",
    "# df.loc['s1':'s3']\n",
    "\n",
    "# # row selection using a filter / where clause / filtering the dataset\n",
    "# boolean_list = df['salary'] >599 # [True,True,True,False]\n",
    "# df[boolean_list]\n",
    "\n",
    "# boolean_list = df['salary'] >599 # [True,True,True,False]\n",
    "# df.loc[boolean_list]\n",
    "# df.query('salary>599')\n",
    "\n",
    "# # row selection using a filter / where clause / filtering the dataset \n",
    "# # and also column projection \n",
    "# df[df['salary'] >599][\"name\"]\n",
    "# df.loc[df['salary'] >599,\"name\"]\n",
    "df.query('salary>599')[\"name\"]\n"
   ]
  },
  {
   "cell_type": "code",
   "execution_count": 336,
   "metadata": {},
   "outputs": [],
   "source": [
    "# boolean_list = df['dept'].isin([\"comp\",\"IT\"])\n",
    "# df.loc[boolean_list,'name']\n",
    "\n",
    "# df.query('dept in (\"comp\",\"IT\")')['name']\n"
   ]
  },
  {
   "cell_type": "code",
   "execution_count": 337,
   "metadata": {},
   "outputs": [
    {
     "data": {
      "text/html": [
       "<div>\n",
       "<style scoped>\n",
       "    .dataframe tbody tr th:only-of-type {\n",
       "        vertical-align: middle;\n",
       "    }\n",
       "\n",
       "    .dataframe tbody tr th {\n",
       "        vertical-align: top;\n",
       "    }\n",
       "\n",
       "    .dataframe thead th {\n",
       "        text-align: right;\n",
       "    }\n",
       "</style>\n",
       "<table border=\"1\" class=\"dataframe\">\n",
       "  <thead>\n",
       "    <tr style=\"text-align: right;\">\n",
       "      <th></th>\n",
       "      <th>name</th>\n",
       "      <th>salary</th>\n",
       "      <th>dept</th>\n",
       "      <th>new_category</th>\n",
       "      <th>test</th>\n",
       "    </tr>\n",
       "    <tr>\n",
       "      <th>rollno</th>\n",
       "      <th></th>\n",
       "      <th></th>\n",
       "      <th></th>\n",
       "      <th></th>\n",
       "      <th></th>\n",
       "    </tr>\n",
       "  </thead>\n",
       "  <tbody>\n",
       "    <tr>\n",
       "      <th>s1</th>\n",
       "      <td>Gaurav</td>\n",
       "      <td>1000</td>\n",
       "      <td>comp</td>\n",
       "      <td>Overpaid</td>\n",
       "      <td>NaN</td>\n",
       "    </tr>\n",
       "    <tr>\n",
       "      <th>s2</th>\n",
       "      <td>Pratik</td>\n",
       "      <td>700</td>\n",
       "      <td>IT</td>\n",
       "      <td>Underpaid</td>\n",
       "      <td>NaN</td>\n",
       "    </tr>\n",
       "    <tr>\n",
       "      <th>s3</th>\n",
       "      <td>Sneha</td>\n",
       "      <td>600</td>\n",
       "      <td>comp</td>\n",
       "      <td>Underpaid</td>\n",
       "      <td>NaN</td>\n",
       "    </tr>\n",
       "    <tr>\n",
       "      <th>s4</th>\n",
       "      <td>Mayur</td>\n",
       "      <td>500</td>\n",
       "      <td>Mech</td>\n",
       "      <td>Underpaid</td>\n",
       "      <td>NaN</td>\n",
       "    </tr>\n",
       "  </tbody>\n",
       "</table>\n",
       "</div>"
      ],
      "text/plain": [
       "          name  salary  dept new_category  test\n",
       "rollno                                         \n",
       "s1      Gaurav    1000  comp     Overpaid   NaN\n",
       "s2      Pratik     700    IT    Underpaid   NaN\n",
       "s3       Sneha     600  comp    Underpaid   NaN\n",
       "s4       Mayur     500  Mech    Underpaid   NaN"
      ]
     },
     "execution_count": 337,
     "metadata": {},
     "output_type": "execute_result"
    }
   ],
   "source": [
    "#https://dataindependent.com/pandas/pandas-iterate-over-rows-5-methods/\n",
    "# df['salary'] = df['salary']*.10 + df['salary']\n",
    "\n",
    "def get_category(row):\n",
    "    if  row['salary']> 999 :\n",
    "        return \"Overpaid\"\n",
    "    else:\n",
    "        return \"Underpaid\" \n",
    "        \n",
    "df['new_category'] = df.apply(get_category, axis = 1 )\n",
    "\n",
    "df = df.set_index('rollno')\n",
    "df\n",
    "\n",
    "# extract digits \n",
    "# import re \n",
    "# pattern = '\\d+'\n",
    "# print(re.search(pattern,'s1').group(0))\n",
    "\n",
    "# figure this out \n",
    "def roll_no_category(row):\n",
    "    return 1\n",
    "   \n",
    "df[\"test\"] = df.apply(roll_no_category,axis=0)\n",
    "df\n",
    "\n"
   ]
  },
  {
   "cell_type": "code",
   "execution_count": 278,
   "metadata": {},
   "outputs": [
    {
     "data": {
      "text/plain": [
       "1"
      ]
     },
     "execution_count": 278,
     "metadata": {},
     "output_type": "execute_result"
    }
   ],
   "source": [
    "int('s1'[-1])"
   ]
  },
  {
   "cell_type": "code",
   "execution_count": null,
   "metadata": {},
   "outputs": [],
   "source": []
  },
  {
   "cell_type": "code",
   "execution_count": 241,
   "metadata": {},
   "outputs": [
    {
     "name": "stdout",
     "output_type": "stream",
     "text": [
      "Gaurav - Pratik\n",
      "1000 - 700\n",
      "comp - IT\n",
      "Overpaid - Underpaid\n"
     ]
    },
    {
     "data": {
      "text/plain": [
       "name            None\n",
       "salary          None\n",
       "dept            None\n",
       "new_category    None\n",
       "dtype: object"
      ]
     },
     "execution_count": 241,
     "metadata": {},
     "output_type": "execute_result"
    }
   ],
   "source": [
    "import re \n",
    "pattern = '\\d+'\n",
    "df.apply(lambda row: print (f\"{row['s1']} - {row['s2']}\"), axis=0)\n"
   ]
  }
 ],
 "metadata": {
  "kernelspec": {
   "display_name": "Python 3 (ipykernel)",
   "language": "python",
   "name": "python3"
  },
  "language_info": {
   "codemirror_mode": {
    "name": "ipython",
    "version": 3
   },
   "file_extension": ".py",
   "mimetype": "text/x-python",
   "name": "python",
   "nbconvert_exporter": "python",
   "pygments_lexer": "ipython3",
   "version": "3.10.6"
  }
 },
 "nbformat": 4,
 "nbformat_minor": 2
}

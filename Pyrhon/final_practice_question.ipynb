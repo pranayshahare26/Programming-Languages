{
 "cells": [
  {
   "cell_type": "code",
   "execution_count": null,
   "metadata": {},
   "outputs": [],
   "source": [
    "# sample code for getting prices of stocks from the internet and trying to chart a data off \n",
    "import requests\n",
    "import pandas as pd\n",
    "import time\n",
    "\n",
    "symbols = ['AAPL', 'MSFT', 'TSLA']\n",
    "start_date_str = input(\"Enter start date in YYYY-MM-DD format: \")\n",
    "end_date_str = input(\"Enter end date in YYYY-MM-DD format: \")\n",
    "\n",
    "start_date = int(time.mktime(time.strptime(start_date_str, \"%Y-%m-%d\")))\n",
    "end_date = int(time.mktime(time.strptime(end_date_str, \"%Y-%m-%d\")))\n",
    "\n",
    "dfs = []\n",
    "\n",
    "for symbol in symbols:\n",
    "    url = f'https://query1.finance.yahoo.com/v7/finance/download/{symbol}?period1={start_date}&period2={end_date}&interval=1d&events=history&includeAdjustedClose=true'\n",
    "    response = requests.get(url)\n",
    "\n",
    "    if response.status_code == 200:\n",
    "        df = pd.read_csv(response.content)\n",
    "        df['Symbol'] = symbol\n",
    "        dfs.append(df[['Symbol', 'Date', 'Close']])\n",
    "    else:\n",
    "        print(f\"Failed to scrape {symbol}\")\n",
    "\n",
    "if dfs:\n",
    "    df = pd.concat(dfs, ignore_index=True)\n",
    "    print(df)\n",
    "else:\n",
    "    print(\"No data was scraped.\")\n"
   ]
  },
  {
   "cell_type": "code",
   "execution_count": null,
   "metadata": {},
   "outputs": [],
   "source": []
  }
 ],
 "metadata": {
  "kernelspec": {
   "display_name": "base",
   "language": "python",
   "name": "python3"
  },
  "language_info": {
   "codemirror_mode": {
    "name": "ipython",
    "version": 3
   },
   "file_extension": ".py",
   "mimetype": "text/x-python",
   "name": "python",
   "nbconvert_exporter": "python",
   "pygments_lexer": "ipython3",
   "version": "3.9.12"
  },
  "orig_nbformat": 4
 },
 "nbformat": 4,
 "nbformat_minor": 2
}
